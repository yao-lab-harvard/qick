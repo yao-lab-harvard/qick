{
 "cells": [
  {
   "cell_type": "markdown",
   "metadata": {},
   "source": [
    "# <center> Running remotely using Pyro4\n",
    "### <center> In this demo you will learn how to run the low-level software on the QICK as a server, and \"proxy\" it over the network to a separate client computer that runs the high-level software."
   ]
  },
  {
   "cell_type": "markdown",
   "metadata": {},
   "source": [
    "Pyro4 is a software package that lets you \"proxy\" a Python object so it can be accessed from another computer.\n",
    "\n",
    "https://pyro4.readthedocs.io/en/stable/intro.html\n",
    "\n",
    "we can use Pyro4 to proxy the QickSoc object. This allows you to take any of the demo notebooks and run it on a different computer, and all you need to do is replace the `QickSoc()` initialization with some Pyro4 initialization.\n",
    "\n",
    "## Pros and cons\n",
    "There are advantages to using Pyro4:\n",
    "* The QickSoc doesn't get reinitialized every time you restart your notebook. If your experiment cares about the readout phase, which gets reset and must be recalibrated every time the FPGA gets reprogrammed, this is a big deal.\n",
    "* You can write and run your QickProgram (or AveragerProgram/RAveragerProgram) on any computer. If you're used to using a graphical IDE, or you want to run your programs in an environment other than what's available on the QICK (i.e. Jupyter notebooks and command-line scripts over SSH), this is a big deal. Your PC is probably also more responsive than the QICK (which has approximately the CPU/RAM/storage performance of a Raspberry Pi).\n",
    "\n",
    "But there are disadvantages that you should be aware of:\n",
    "* There's some overhead: you need to start a nameserver and server in addition to what you would normally do.\n",
    "* Debugging is harder, because exceptions on the server don't get printed on the client (you just get a generic Pyro4 error) without some extra work: https://pyro4.readthedocs.io/en/stable/errors.html\n",
    "* Any messages printed by QickSoc code only show up on the server.\n",
    "* Pyro4 only proxies methods and specially registered properties of the QickSoc. This means that you can't access all the members of the QickSoc (e.g. the readout and generator objects). The demos are written to avoid Pyro4-incompatible operations, but you may have code that needs to be rewritten.\n",
    "* It's easy to lose track of which version of the QICK library you have installed in which place.\n",
    "\n",
    "## Overview, requirements\n",
    "There are three components to a Pyro4 setup: the nameserver, the server (also known as the daemon), and the client. Start them in this order.\n",
    "\n",
    "The server must run on the QICK, but the nameserver and client can be anywhere. To keep things self-contained, this demo is structured to put everything on the QICK, but we note what you would do differently if running the nameserver and/or client elsewhere.\n",
    "\n",
    "The nameserver, server, and client must all be on the same network - a lab LAN is fine. Tailscale (http://tailscale.com/) works well in the case where everything has Internet access, but not everything is on the same LAN.\n",
    "\n",
    "You need to install pyro4, both on the QICK and the computer(s) running the nameserver and client - it's a Python module, available through pip (`sudo pip3 install Pyro4`) or apt (`sudo apt install python3-pyro4`).\n",
    "\n",
    "The nameserver and server run continuously, so if you want to run them in Jupyter notebooks you need to use separate notebooks for the nameserver, server, and client. Alternatively, you could run the nameserver and server as command-line scripts (also provided here) which you would run over SSH, perhaps using a tool such as `screen` which provides persistent terminal sessions that survive loss of an SSH connection."
   ]
  },
  {
   "cell_type": "markdown",
   "metadata": {},
   "source": [
    "## Nameserver\n",
    "The nameserver is how the client finds the server. You should only run one nameserver on a network.\n",
    "\n",
    "##### Hostname\n",
    "The hostname defines how clients and servers can connect to the nameserver. Specify the hostname or IP address that both the client and server will use to connect to the nameserver (if you're running everything on the QICK you could specify \"localhost\" or \"127.0.0.1\" to restrict access to programs running locally). \"0.0.0.0\" means that the nameserver listens on all available network interfaces, which is usually what you want (but might not work in all cases?).\n",
    "\n",
    "##### Port\n",
    "Because the default nameserver port (9090) conflicts with the port PYNQ uses for the Jupyter notebook server, we use port 8888 in this demo. If you put the nameserver elsewhere, you might prefer to use the default port and save a few lines of code. In this case you would not define the ns_port variable and omit that parameter in the `pyro4-ns` and `locateNS()` commands.\n",
    "\n",
    "### Running the nameserver\n",
    "To run the nameserver, run the following shell command (either in an SSH session or a separate notebook):\n",
    "```\n",
    "PYRO_SERIALIZERS_ACCEPTED=pickle PYRO_PICKLE_PROTOCOL_VERSION=4 pyro4-ns -n 0.0.0.0 -p 8888\n",
    "```\n",
    "\n",
    "There's also a script in this directory, which takes the same options (again, this could run over SSH or in a notebook):\n",
    "```\n",
    "./nameserver.sh -n 0.0.0.0 -p 8888\n",
    "```\n",
    "\n",
    "Typical output looks like this:\n",
    "\n",
    "```\n",
    "xilinx@pynq216:~$ export PYRO_SERIALIZERS_ACCEPTED=pickle PYRO_PICKLE_PROTOCOL_VERSION=4 pyro4-ns -n 0.0.0.0 -p 8888\n",
    "Broadcast server running on 0.0.0.0:9091\n",
    "NS running on 0.0.0.0:8888 (0.0.0.0)\n",
    "Warning: HMAC key not set. Anyone can connect to this server!\n",
    "URI = PYRO:Pyro.NameServer@0.0.0.0:8888\n",
    "```\n",
    "\n",
    "The nameserver doesn't print anything when servers and clients connect to it - don't worry! Leave it running. \n",
    "\n",
    "Now start the server and client, in that order (see the other two notebooks in this directory).\n",
    "\n",
    "**If you stop the nameserver for any reason, you need to restart the server, then any clients.**"
   ]
  },
  {
   "cell_type": "code",
   "execution_count": 1,
   "metadata": {},
   "outputs": [
    {
     "name": "stdout",
     "output_type": "stream",
     "text": [
      "Broadcast server running on 0.0.0.0:9091\n",
      "NS running on 0.0.0.0:8888 (0.0.0.0)\n",
      "Warning: HMAC key not set. Anyone can connect to this server!\n",
      "URI = PYRO:Pyro.NameServer@0.0.0.0:8888\n",
      "^C\n"
     ]
    }
   ],
   "source": [
    "!./nameserver.sh -n 0.0.0.0 -p 8888"
   ]
  },
  {
   "cell_type": "markdown",
   "metadata": {},
   "source": [
    "If you just want some Python code that starts a nameserver, this does the same thing as the script:"
   ]
  },
  {
   "cell_type": "code",
   "execution_count": 2,
   "metadata": {},
   "outputs": [
    {
     "data": {
      "application/javascript": [
       "\n",
       "try {\n",
       "require(['notebook/js/codecell'], function(codecell) {\n",
       "  codecell.CodeCell.options_default.highlight_modes[\n",
       "      'magic_text/x-csrc'] = {'reg':[/^%%microblaze/]};\n",
       "  Jupyter.notebook.events.one('kernel_ready.Kernel', function(){\n",
       "      Jupyter.notebook.get_cells().map(function(cell){\n",
       "          if (cell.cell_type == 'code'){ cell.auto_highlight(); } }) ;\n",
       "  });\n",
       "});\n",
       "} catch (e) {};\n"
      ]
     },
     "metadata": {},
     "output_type": "display_data"
    },
    {
     "data": {
      "application/javascript": [
       "\n",
       "try {\n",
       "require(['notebook/js/codecell'], function(codecell) {\n",
       "  codecell.CodeCell.options_default.highlight_modes[\n",
       "      'magic_text/x-csrc'] = {'reg':[/^%%pybind11/]};\n",
       "  Jupyter.notebook.events.one('kernel_ready.Kernel', function(){\n",
       "      Jupyter.notebook.get_cells().map(function(cell){\n",
       "          if (cell.cell_type == 'code'){ cell.auto_highlight(); } }) ;\n",
       "  });\n",
       "});\n",
       "} catch (e) {};\n"
      ]
     },
     "metadata": {},
     "output_type": "display_data"
    },
    {
     "name": "stdout",
     "output_type": "stream",
     "text": [
      "Broadcast server running on 0.0.0.0:9091\n",
      "NS running on 0.0.0.0:8888 (0.0.0.0)\n",
      "Warning: HMAC key not set. Anyone can connect to this server!\n",
      "URI = PYRO:Pyro.NameServer@0.0.0.0:8888\n",
      "NS shut down.\n"
     ]
    }
   ],
   "source": [
    "from qick.pyro import start_nameserver\n",
    "start_nameserver(ns_port=8888)"
   ]
  },
  {
   "cell_type": "code",
   "execution_count": 3,
   "metadata": {},
   "outputs": [
    {
     "name": "stdout",
     "output_type": "stream",
     "text": [
      "Help on function start_nameserver in module qick_pyro:\n",
      "\n",
      "start_nameserver(ns_port=8888)\n",
      "    Starts a Pyro4 nameserver that listens on all network interfaces.\n",
      "    \n",
      "    Parameters\n",
      "    ----------\n",
      "    ns_port : int\n",
      "        the port number for the nameserver to listen on\n",
      "    \n",
      "    Returns\n",
      "    -------\n",
      "\n"
     ]
    }
   ],
   "source": [
    "help(start_nameserver)"
   ]
  }
 ],
 "metadata": {
  "kernelspec": {
   "display_name": "Python 3 (ipykernel)",
   "language": "python",
   "name": "python3"
  },
  "language_info": {
   "codemirror_mode": {
    "name": "ipython",
    "version": 3
   },
   "file_extension": ".py",
   "mimetype": "text/x-python",
   "name": "python",
   "nbconvert_exporter": "python",
   "pygments_lexer": "ipython3",
   "version": "3.11.3"
  }
 },
 "nbformat": 4,
 "nbformat_minor": 2
}
